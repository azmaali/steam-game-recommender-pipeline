{
 "cells": [
  {
   "cell_type": "markdown",
   "metadata": {
    "application/vnd.databricks.v1+cell": {
     "cellMetadata": {
      "byteLimit": 2048000,
      "rowLimit": 10000
     },
     "inputWidgets": {},
     "nuid": "24029f55-10b5-4291-8ad5-bfc83c9faae4",
     "showTitle": false,
     "tableResultSettingsMap": {},
     "title": ""
    }
   },
   "source": [
    "# Data Cleaning"
   ]
  },
  {
   "cell_type": "markdown",
   "metadata": {
    "application/vnd.databricks.v1+cell": {
     "cellMetadata": {
      "byteLimit": 2048000,
      "rowLimit": 10000
     },
     "inputWidgets": {},
     "nuid": "cb6d56f2-f087-45fd-8187-1a0012587b98",
     "showTitle": false,
     "tableResultSettingsMap": {},
     "title": ""
    }
   },
   "source": [
    "## 1. Set up"
   ]
  },
  {
   "cell_type": "markdown",
   "metadata": {
    "application/vnd.databricks.v1+cell": {
     "cellMetadata": {
      "byteLimit": 2048000,
      "rowLimit": 10000
     },
     "inputWidgets": {},
     "nuid": "2969f02e-d563-4333-b0ad-5a40070cf0e3",
     "showTitle": false,
     "tableResultSettingsMap": {},
     "title": ""
    }
   },
   "source": [
    "### 1.1 Import Libraries"
   ]
  },
  {
   "cell_type": "code",
   "execution_count": 0,
   "metadata": {
    "application/vnd.databricks.v1+cell": {
     "cellMetadata": {
      "byteLimit": 2048000,
      "rowLimit": 10000
     },
     "inputWidgets": {},
     "nuid": "e0579770-899a-497a-9c0a-e7259623d32f",
     "showTitle": false,
     "tableResultSettingsMap": {},
     "title": ""
    }
   },
   "outputs": [
    {
     "output_type": "execute_result",
     "data": {
      "text/plain": [
       "<module 'utils.data_exploration' from '/Workspace/Users/azmaali0@gmail.com/Steam-Game-Recommender/utils/data_exploration.py'>"
      ]
     },
     "execution_count": 3,
     "metadata": {},
     "output_type": "execute_result"
    }
   ],
   "source": [
    "from utils import data_exploration as dexplor\n",
    "from utils import config\n",
    "import importlib\n",
    "importlib.reload(config)\n",
    "importlib.reload(dexplor)\n"
   ]
  },
  {
   "cell_type": "markdown",
   "metadata": {
    "application/vnd.databricks.v1+cell": {
     "cellMetadata": {
      "byteLimit": 2048000,
      "rowLimit": 10000
     },
     "inputWidgets": {},
     "nuid": "979d61c7-40b2-4b42-b2d7-bb4952a299e1",
     "showTitle": false,
     "tableResultSettingsMap": {},
     "title": ""
    }
   },
   "source": [
    "### 1.2 Load Dataset"
   ]
  },
  {
   "cell_type": "code",
   "execution_count": 0,
   "metadata": {
    "application/vnd.databricks.v1+cell": {
     "cellMetadata": {
      "byteLimit": 2048000,
      "rowLimit": 10000
     },
     "collapsed": true,
     "inputWidgets": {},
     "nuid": "da3ff670-a768-4b4a-841a-a58c7f49b4b7",
     "showTitle": false,
     "tableResultSettingsMap": {},
     "title": ""
    }
   },
   "outputs": [],
   "source": [
    "%run \"./00_Data_Loading\""
   ]
  },
  {
   "cell_type": "markdown",
   "metadata": {
    "application/vnd.databricks.v1+cell": {
     "cellMetadata": {
      "byteLimit": 2048000,
      "rowLimit": 10000
     },
     "inputWidgets": {},
     "nuid": "9d884bfc-0c48-4bc6-9975-71a4f51805a2",
     "showTitle": false,
     "tableResultSettingsMap": {},
     "title": ""
    }
   },
   "source": [
    "## 2. Initial Exploration "
   ]
  },
  {
   "cell_type": "markdown",
   "metadata": {
    "application/vnd.databricks.v1+cell": {
     "cellMetadata": {
      "byteLimit": 2048000,
      "rowLimit": 10000
     },
     "inputWidgets": {},
     "nuid": "8d27bcbe-b076-438a-92a2-7ba138532381",
     "showTitle": false,
     "tableResultSettingsMap": {},
     "title": ""
    }
   },
   "source": [
    "### 2.1 Shape of the Datasets "
   ]
  },
  {
   "cell_type": "code",
   "execution_count": 0,
   "metadata": {
    "application/vnd.databricks.v1+cell": {
     "cellMetadata": {
      "byteLimit": 2048000,
      "rowLimit": 10000
     },
     "inputWidgets": {},
     "nuid": "dd72a241-bec7-4a8f-9ee1-6319c3db19ba",
     "showTitle": false,
     "tableResultSettingsMap": {},
     "title": ""
    }
   },
   "outputs": [
    {
     "output_type": "stream",
     "name": "stdout",
     "output_type": "stream",
     "text": [
      "Games DF\n50872 13\nGames Metadata DF\n50872 3\nRecommendations DF\n41154794 8\nUsers DF\n14306064 3\n"
     ]
    }
   ],
   "source": [
    "# Games DataFrame\n",
    "print(\"Games DF\")\n",
    "print(games_df.count(), len(games_df.columns))\n",
    "\n",
    "# Games Metadata DataFrame\n",
    "print(\"Games Metadata DF\")\n",
    "print(games_metadata_df.count(), len(games_metadata_df.columns))\n",
    "\n",
    "# Recommendations DataFrame\n",
    "print(\"Recommendations DF\")\n",
    "print(recommendations_df.count(), len(recommendations_df.columns))\n",
    "\n",
    "# Users DataFrame\n",
    "print(\"Users DF\")\n",
    "print(users_df.count(), len(users_df.columns))\n"
   ]
  },
  {
   "cell_type": "markdown",
   "metadata": {
    "application/vnd.databricks.v1+cell": {
     "cellMetadata": {
      "byteLimit": 2048000,
      "rowLimit": 10000
     },
     "inputWidgets": {},
     "nuid": "2d4a222a-8d24-4b5c-8e90-4c5a6385c19a",
     "showTitle": false,
     "tableResultSettingsMap": {},
     "title": ""
    }
   },
   "source": [
    "### 2.2 Preview the Data"
   ]
  },
  {
   "cell_type": "code",
   "execution_count": 0,
   "metadata": {
    "application/vnd.databricks.v1+cell": {
     "cellMetadata": {
      "byteLimit": 2048000,
      "rowLimit": 10000
     },
     "inputWidgets": {},
     "nuid": "e6be76ee-4a6c-4db5-824c-3ea8beada766",
     "showTitle": false,
     "tableResultSettingsMap": {},
     "title": ""
    }
   },
   "outputs": [
    {
     "output_type": "stream",
     "name": "stdout",
     "output_type": "stream",
     "text": [
      "Games DF\n"
     ]
    },
    {
     "output_type": "display_data",
     "data": {
      "text/html": [
       "<style scoped>\n",
       "  .table-result-container {\n",
       "    max-height: 300px;\n",
       "    overflow: auto;\n",
       "  }\n",
       "  table, th, td {\n",
       "    border: 1px solid black;\n",
       "    border-collapse: collapse;\n",
       "  }\n",
       "  th, td {\n",
       "    padding: 5px;\n",
       "  }\n",
       "  th {\n",
       "    text-align: left;\n",
       "  }\n",
       "</style><div class='table-result-container'><table class='table-result'><thead style='background-color: white'><tr><th>app_id</th><th>title</th><th>date_release</th><th>win</th><th>mac</th><th>linux</th><th>rating</th><th>positive_ratio</th><th>user_reviews</th><th>price_final</th><th>price_original</th><th>discount</th><th>steam_deck</th></tr></thead><tbody><tr><td>13500</td><td>Prince of Persia: Warrior Within™</td><td>2008-11-21</td><td>true</td><td>false</td><td>false</td><td>Very Positive</td><td>84</td><td>2199</td><td>9.99</td><td>9.99</td><td>0.0</td><td>true</td></tr><tr><td>22364</td><td>BRINK: Agents of Change</td><td>2011-08-03</td><td>true</td><td>false</td><td>false</td><td>Positive</td><td>85</td><td>21</td><td>2.99</td><td>2.99</td><td>0.0</td><td>true</td></tr><tr><td>113020</td><td>Monaco: What's Yours Is Mine</td><td>2013-04-24</td><td>true</td><td>true</td><td>true</td><td>Very Positive</td><td>92</td><td>3722</td><td>14.99</td><td>14.99</td><td>0.0</td><td>true</td></tr><tr><td>226560</td><td>Escape Dead Island</td><td>2014-11-18</td><td>true</td><td>false</td><td>false</td><td>Mixed</td><td>61</td><td>873</td><td>14.99</td><td>14.99</td><td>0.0</td><td>true</td></tr><tr><td>249050</td><td>Dungeon of the ENDLESS™</td><td>2014-10-27</td><td>true</td><td>true</td><td>false</td><td>Very Positive</td><td>88</td><td>8784</td><td>11.99</td><td>11.99</td><td>0.0</td><td>true</td></tr></tbody></table></div>"
      ]
     },
     "metadata": {
      "application/vnd.databricks.v1+output": {
       "addedWidgets": {},
       "aggData": [],
       "aggError": "",
       "aggOverflow": false,
       "aggSchema": [],
       "aggSeriesLimitReached": false,
       "aggType": "",
       "arguments": {},
       "columnCustomDisplayInfos": {},
       "data": [
        [
         "13500",
         "Prince of Persia: Warrior Within™",
         "2008-11-21",
         "true",
         "false",
         "false",
         "Very Positive",
         "84",
         "2199",
         "9.99",
         "9.99",
         "0.0",
         "true"
        ],
        [
         "22364",
         "BRINK: Agents of Change",
         "2011-08-03",
         "true",
         "false",
         "false",
         "Positive",
         "85",
         "21",
         "2.99",
         "2.99",
         "0.0",
         "true"
        ],
        [
         "113020",
         "Monaco: What's Yours Is Mine",
         "2013-04-24",
         "true",
         "true",
         "true",
         "Very Positive",
         "92",
         "3722",
         "14.99",
         "14.99",
         "0.0",
         "true"
        ],
        [
         "226560",
         "Escape Dead Island",
         "2014-11-18",
         "true",
         "false",
         "false",
         "Mixed",
         "61",
         "873",
         "14.99",
         "14.99",
         "0.0",
         "true"
        ],
        [
         "249050",
         "Dungeon of the ENDLESS™",
         "2014-10-27",
         "true",
         "true",
         "false",
         "Very Positive",
         "88",
         "8784",
         "11.99",
         "11.99",
         "0.0",
         "true"
        ]
       ],
       "datasetInfos": [],
       "dbfsResultPath": null,
       "isJsonSchema": true,
       "metadata": {},
       "overflow": false,
       "plotOptions": {
        "customPlotOptions": {},
        "displayType": "table",
        "pivotAggregation": null,
        "pivotColumns": null,
        "xColumns": null,
        "yColumns": null
       },
       "removedWidgets": [],
       "schema": [
        {
         "metadata": "{}",
         "name": "app_id",
         "type": "\"string\""
        },
        {
         "metadata": "{}",
         "name": "title",
         "type": "\"string\""
        },
        {
         "metadata": "{}",
         "name": "date_release",
         "type": "\"string\""
        },
        {
         "metadata": "{}",
         "name": "win",
         "type": "\"string\""
        },
        {
         "metadata": "{}",
         "name": "mac",
         "type": "\"string\""
        },
        {
         "metadata": "{}",
         "name": "linux",
         "type": "\"string\""
        },
        {
         "metadata": "{}",
         "name": "rating",
         "type": "\"string\""
        },
        {
         "metadata": "{}",
         "name": "positive_ratio",
         "type": "\"string\""
        },
        {
         "metadata": "{}",
         "name": "user_reviews",
         "type": "\"string\""
        },
        {
         "metadata": "{}",
         "name": "price_final",
         "type": "\"string\""
        },
        {
         "metadata": "{}",
         "name": "price_original",
         "type": "\"string\""
        },
        {
         "metadata": "{}",
         "name": "discount",
         "type": "\"string\""
        },
        {
         "metadata": "{}",
         "name": "steam_deck",
         "type": "\"string\""
        }
       ],
       "type": "table"
      }
     },
     "output_type": "display_data"
    },
    {
     "output_type": "stream",
     "name": "stdout",
     "output_type": "stream",
     "text": [
      "Games Metadata DF\n"
     ]
    },
    {
     "output_type": "display_data",
     "data": {
      "text/html": [
       "<style scoped>\n",
       "  .table-result-container {\n",
       "    max-height: 300px;\n",
       "    overflow: auto;\n",
       "  }\n",
       "  table, th, td {\n",
       "    border: 1px solid black;\n",
       "    border-collapse: collapse;\n",
       "  }\n",
       "  th, td {\n",
       "    padding: 5px;\n",
       "  }\n",
       "  th {\n",
       "    text-align: left;\n",
       "  }\n",
       "</style><div class='table-result-container'><table class='table-result'><thead style='background-color: white'><tr><th>app_id</th><th>description</th><th>tags</th></tr></thead><tbody><tr><td>13500</td><td>Enter the dark underworld of Prince of Persia Warrior Within, the sword-slashing sequel to the critically acclaimed Prince of Persia: The Sands of Time™. Hunted by Dahaka, an immortal incarnation of Fate seeking divine retribution, the Prince embarks upon a path of both carnage and mystery to defy his preordained death.</td><td>List(Action, Adventure, Parkour, Third Person, Great Soundtrack, Singleplayer, Platformer, Time Travel, Atmospheric, Classic, Hack and Slash, Time Manipulation, Gore, Fantasy, Story Rich, Dark, Open World, Controller, Dark Fantasy, Puzzle)</td></tr><tr><td>22364</td><td></td><td>List(Action)</td></tr><tr><td>113020</td><td>Monaco: What's Yours Is Mine is a single player or co-op heist game. Assemble a crack team of thieves, case the joint, and pull off the perfect heist.</td><td>List(Co-op, Stealth, Indie, Heist, Local Co-Op, Strategy, Online Co-Op, Top-Down, Action, Multiplayer, Crime, Casual, Great Soundtrack, Adventure, Pixel Graphics, Local Multiplayer, Controller, 2D, Singleplayer, Loot)</td></tr><tr><td>226560</td><td>Escape Dead Island is a Survival-Mystery adventure that lets players delve into the Dead Island universe and unravel the origins of the zombie outbreak.</td><td>List(Zombies, Adventure, Survival, Action, Third Person, Open World, Gore, Horror, Singleplayer, Multiplayer, Cartoony, Hack and Slash, Stealth, Co-op, Atmospheric, Survival Horror, Third-Person Shooter, Anime)</td></tr><tr><td>249050</td><td>Dungeon of the Endless is a Rogue-Like Dungeon-Defense game, in which the player and their team of heroes must protect the generator of their crashed ship while exploring an ever-expanding dungeon, all while facing waves of monsters and special events as they try to find their way out...</td><td>List(Roguelike, Strategy, Tower Defense, Pixel Graphics, Indie, RPG, Sci-fi, Dungeon Crawler, Adventure, Perma Death, Procedural Generation, Resource Management, Difficult, Co-op, Roguelite, Survival, Replay Value, Great Soundtrack, Singleplayer, 2D)</td></tr></tbody></table></div>"
      ]
     },
     "metadata": {
      "application/vnd.databricks.v1+output": {
       "addedWidgets": {},
       "aggData": [],
       "aggError": "",
       "aggOverflow": false,
       "aggSchema": [],
       "aggSeriesLimitReached": false,
       "aggType": "",
       "arguments": {},
       "columnCustomDisplayInfos": {},
       "data": [
        [
         13500,
         "Enter the dark underworld of Prince of Persia Warrior Within, the sword-slashing sequel to the critically acclaimed Prince of Persia: The Sands of Time™. Hunted by Dahaka, an immortal incarnation of Fate seeking divine retribution, the Prince embarks upon a path of both carnage and mystery to defy his preordained death.",
         [
          "Action",
          "Adventure",
          "Parkour",
          "Third Person",
          "Great Soundtrack",
          "Singleplayer",
          "Platformer",
          "Time Travel",
          "Atmospheric",
          "Classic",
          "Hack and Slash",
          "Time Manipulation",
          "Gore",
          "Fantasy",
          "Story Rich",
          "Dark",
          "Open World",
          "Controller",
          "Dark Fantasy",
          "Puzzle"
         ]
        ],
        [
         22364,
         "",
         [
          "Action"
         ]
        ],
        [
         113020,
         "Monaco: What's Yours Is Mine is a single player or co-op heist game. Assemble a crack team of thieves, case the joint, and pull off the perfect heist.",
         [
          "Co-op",
          "Stealth",
          "Indie",
          "Heist",
          "Local Co-Op",
          "Strategy",
          "Online Co-Op",
          "Top-Down",
          "Action",
          "Multiplayer",
          "Crime",
          "Casual",
          "Great Soundtrack",
          "Adventure",
          "Pixel Graphics",
          "Local Multiplayer",
          "Controller",
          "2D",
          "Singleplayer",
          "Loot"
         ]
        ],
        [
         226560,
         "Escape Dead Island is a Survival-Mystery adventure that lets players delve into the Dead Island universe and unravel the origins of the zombie outbreak.",
         [
          "Zombies",
          "Adventure",
          "Survival",
          "Action",
          "Third Person",
          "Open World",
          "Gore",
          "Horror",
          "Singleplayer",
          "Multiplayer",
          "Cartoony",
          "Hack and Slash",
          "Stealth",
          "Co-op",
          "Atmospheric",
          "Survival Horror",
          "Third-Person Shooter",
          "Anime"
         ]
        ],
        [
         249050,
         "Dungeon of the Endless is a Rogue-Like Dungeon-Defense game, in which the player and their team of heroes must protect the generator of their crashed ship while exploring an ever-expanding dungeon, all while facing waves of monsters and special events as they try to find their way out...",
         [
          "Roguelike",
          "Strategy",
          "Tower Defense",
          "Pixel Graphics",
          "Indie",
          "RPG",
          "Sci-fi",
          "Dungeon Crawler",
          "Adventure",
          "Perma Death",
          "Procedural Generation",
          "Resource Management",
          "Difficult",
          "Co-op",
          "Roguelite",
          "Survival",
          "Replay Value",
          "Great Soundtrack",
          "Singleplayer",
          "2D"
         ]
        ]
       ],
       "datasetInfos": [],
       "dbfsResultPath": null,
       "isJsonSchema": true,
       "metadata": {},
       "overflow": false,
       "plotOptions": {
        "customPlotOptions": {},
        "displayType": "table",
        "pivotAggregation": null,
        "pivotColumns": null,
        "xColumns": null,
        "yColumns": null
       },
       "removedWidgets": [],
       "schema": [
        {
         "metadata": "{}",
         "name": "app_id",
         "type": "\"long\""
        },
        {
         "metadata": "{}",
         "name": "description",
         "type": "\"string\""
        },
        {
         "metadata": "{}",
         "name": "tags",
         "type": "{\"containsNull\":true,\"elementType\":\"string\",\"type\":\"array\"}"
        }
       ],
       "type": "table"
      }
     },
     "output_type": "display_data"
    },
    {
     "output_type": "stream",
     "name": "stdout",
     "output_type": "stream",
     "text": [
      "Recommendations DF\n"
     ]
    },
    {
     "output_type": "display_data",
     "data": {
      "text/html": [
       "<style scoped>\n",
       "  .table-result-container {\n",
       "    max-height: 300px;\n",
       "    overflow: auto;\n",
       "  }\n",
       "  table, th, td {\n",
       "    border: 1px solid black;\n",
       "    border-collapse: collapse;\n",
       "  }\n",
       "  th, td {\n",
       "    padding: 5px;\n",
       "  }\n",
       "  th {\n",
       "    text-align: left;\n",
       "  }\n",
       "</style><div class='table-result-container'><table class='table-result'><thead style='background-color: white'><tr><th>app_id</th><th>helpful</th><th>funny</th><th>date</th><th>is_recommended</th><th>hours</th><th>user_id</th><th>review_id</th></tr></thead><tbody><tr><td>975370</td><td>0</td><td>0</td><td>2022-12-12</td><td>true</td><td>36.3</td><td>51580</td><td>0</td></tr><tr><td>304390</td><td>4</td><td>0</td><td>2017-02-17</td><td>false</td><td>11.5</td><td>2586</td><td>1</td></tr><tr><td>1085660</td><td>2</td><td>0</td><td>2019-11-17</td><td>true</td><td>336.5</td><td>253880</td><td>2</td></tr><tr><td>703080</td><td>0</td><td>0</td><td>2022-09-23</td><td>true</td><td>27.4</td><td>259432</td><td>3</td></tr><tr><td>526870</td><td>0</td><td>0</td><td>2021-01-10</td><td>true</td><td>7.9</td><td>23869</td><td>4</td></tr></tbody></table></div>"
      ]
     },
     "metadata": {
      "application/vnd.databricks.v1+output": {
       "addedWidgets": {},
       "aggData": [],
       "aggError": "",
       "aggOverflow": false,
       "aggSchema": [],
       "aggSeriesLimitReached": false,
       "aggType": "",
       "arguments": {},
       "columnCustomDisplayInfos": {},
       "data": [
        [
         "975370",
         "0",
         "0",
         "2022-12-12",
         "true",
         "36.3",
         "51580",
         "0"
        ],
        [
         "304390",
         "4",
         "0",
         "2017-02-17",
         "false",
         "11.5",
         "2586",
         "1"
        ],
        [
         "1085660",
         "2",
         "0",
         "2019-11-17",
         "true",
         "336.5",
         "253880",
         "2"
        ],
        [
         "703080",
         "0",
         "0",
         "2022-09-23",
         "true",
         "27.4",
         "259432",
         "3"
        ],
        [
         "526870",
         "0",
         "0",
         "2021-01-10",
         "true",
         "7.9",
         "23869",
         "4"
        ]
       ],
       "datasetInfos": [],
       "dbfsResultPath": null,
       "isJsonSchema": true,
       "metadata": {},
       "overflow": false,
       "plotOptions": {
        "customPlotOptions": {},
        "displayType": "table",
        "pivotAggregation": null,
        "pivotColumns": null,
        "xColumns": null,
        "yColumns": null
       },
       "removedWidgets": [],
       "schema": [
        {
         "metadata": "{}",
         "name": "app_id",
         "type": "\"string\""
        },
        {
         "metadata": "{}",
         "name": "helpful",
         "type": "\"string\""
        },
        {
         "metadata": "{}",
         "name": "funny",
         "type": "\"string\""
        },
        {
         "metadata": "{}",
         "name": "date",
         "type": "\"string\""
        },
        {
         "metadata": "{}",
         "name": "is_recommended",
         "type": "\"string\""
        },
        {
         "metadata": "{}",
         "name": "hours",
         "type": "\"string\""
        },
        {
         "metadata": "{}",
         "name": "user_id",
         "type": "\"string\""
        },
        {
         "metadata": "{}",
         "name": "review_id",
         "type": "\"string\""
        }
       ],
       "type": "table"
      }
     },
     "output_type": "display_data"
    },
    {
     "output_type": "stream",
     "name": "stdout",
     "output_type": "stream",
     "text": [
      "Users DF\n"
     ]
    },
    {
     "output_type": "display_data",
     "data": {
      "text/html": [
       "<style scoped>\n",
       "  .table-result-container {\n",
       "    max-height: 300px;\n",
       "    overflow: auto;\n",
       "  }\n",
       "  table, th, td {\n",
       "    border: 1px solid black;\n",
       "    border-collapse: collapse;\n",
       "  }\n",
       "  th, td {\n",
       "    padding: 5px;\n",
       "  }\n",
       "  th {\n",
       "    text-align: left;\n",
       "  }\n",
       "</style><div class='table-result-container'><table class='table-result'><thead style='background-color: white'><tr><th>user_id</th><th>products</th><th>reviews</th></tr></thead><tbody><tr><td>7360263</td><td>359</td><td>0</td></tr><tr><td>14020781</td><td>156</td><td>1</td></tr><tr><td>8762579</td><td>329</td><td>4</td></tr><tr><td>4820647</td><td>176</td><td>4</td></tr><tr><td>5167327</td><td>98</td><td>2</td></tr></tbody></table></div>"
      ]
     },
     "metadata": {
      "application/vnd.databricks.v1+output": {
       "addedWidgets": {},
       "aggData": [],
       "aggError": "",
       "aggOverflow": false,
       "aggSchema": [],
       "aggSeriesLimitReached": false,
       "aggType": "",
       "arguments": {},
       "columnCustomDisplayInfos": {},
       "data": [
        [
         "7360263",
         "359",
         "0"
        ],
        [
         "14020781",
         "156",
         "1"
        ],
        [
         "8762579",
         "329",
         "4"
        ],
        [
         "4820647",
         "176",
         "4"
        ],
        [
         "5167327",
         "98",
         "2"
        ]
       ],
       "datasetInfos": [],
       "dbfsResultPath": null,
       "isJsonSchema": true,
       "metadata": {},
       "overflow": false,
       "plotOptions": {
        "customPlotOptions": {},
        "displayType": "table",
        "pivotAggregation": null,
        "pivotColumns": null,
        "xColumns": null,
        "yColumns": null
       },
       "removedWidgets": [],
       "schema": [
        {
         "metadata": "{}",
         "name": "user_id",
         "type": "\"string\""
        },
        {
         "metadata": "{}",
         "name": "products",
         "type": "\"string\""
        },
        {
         "metadata": "{}",
         "name": "reviews",
         "type": "\"string\""
        }
       ],
       "type": "table"
      }
     },
     "output_type": "display_data"
    }
   ],
   "source": [
    "# Games DataFrame\n",
    "print(\"Games DF\")\n",
    "display(games_df.limit(5)) \n",
    "\n",
    "# Games Metadata DataFrame\n",
    "print(\"Games Metadata DF\")\n",
    "display(games_metadata_df.limit(5)) \n",
    "\n",
    "# Recommendations DataFrame\n",
    "print(\"Recommendations DF\")\n",
    "display(recommendations_df.limit(5)) \n",
    "\n",
    "# Users DataFrame\n",
    "print(\"Users DF\")\n",
    "display(users_df.limit(5)) "
   ]
  },
  {
   "cell_type": "markdown",
   "metadata": {
    "application/vnd.databricks.v1+cell": {
     "cellMetadata": {
      "byteLimit": 2048000,
      "rowLimit": 10000
     },
     "inputWidgets": {},
     "nuid": "1e0c9890-d59d-4c2c-83ff-26c1d6b7787c",
     "showTitle": false,
     "tableResultSettingsMap": {},
     "title": ""
    }
   },
   "source": [
    "### 2.3 Data Types and Schema "
   ]
  },
  {
   "cell_type": "code",
   "execution_count": 0,
   "metadata": {
    "application/vnd.databricks.v1+cell": {
     "cellMetadata": {
      "byteLimit": 2048000,
      "rowLimit": 10000
     },
     "inputWidgets": {},
     "nuid": "1ab0515b-d99d-4957-89e7-fe7ec256417c",
     "showTitle": false,
     "tableResultSettingsMap": {},
     "title": ""
    }
   },
   "outputs": [
    {
     "output_type": "stream",
     "name": "stdout",
     "output_type": "stream",
     "text": [
      "Games DF\nroot\n |-- app_id: string (nullable = true)\n |-- title: string (nullable = true)\n |-- date_release: string (nullable = true)\n |-- win: string (nullable = true)\n |-- mac: string (nullable = true)\n |-- linux: string (nullable = true)\n |-- rating: string (nullable = true)\n |-- positive_ratio: string (nullable = true)\n |-- user_reviews: string (nullable = true)\n |-- price_final: string (nullable = true)\n |-- price_original: string (nullable = true)\n |-- discount: string (nullable = true)\n |-- steam_deck: string (nullable = true)\n\nGames Metadata DF\nroot\n |-- app_id: long (nullable = true)\n |-- description: string (nullable = true)\n |-- tags: array (nullable = true)\n |    |-- element: string (containsNull = true)\n\nRecommendations DF\nroot\n |-- app_id: string (nullable = true)\n |-- helpful: string (nullable = true)\n |-- funny: string (nullable = true)\n |-- date: string (nullable = true)\n |-- is_recommended: string (nullable = true)\n |-- hours: string (nullable = true)\n |-- user_id: string (nullable = true)\n |-- review_id: string (nullable = true)\n\nUsers DF\nroot\n |-- user_id: string (nullable = true)\n |-- products: string (nullable = true)\n |-- reviews: string (nullable = true)\n\n"
     ]
    }
   ],
   "source": [
    "# Games DataFrame\n",
    "print(\"Games DF\")\n",
    "games_df.printSchema()\n",
    "\n",
    "# Games Metadata DataFrame\n",
    "print(\"Games Metadata DF\")\n",
    "games_metadata_df.printSchema()\n",
    "\n",
    "\n",
    "# Recommendations DataFrame\n",
    "print(\"Recommendations DF\")\n",
    "recommendations_df.printSchema()\n",
    "\n",
    "\n",
    "# Users DataFrame\n",
    "print(\"Users DF\")\n",
    "users_df.printSchema()\n"
   ]
  },
  {
   "cell_type": "markdown",
   "metadata": {
    "application/vnd.databricks.v1+cell": {
     "cellMetadata": {
      "byteLimit": 2048000,
      "rowLimit": 10000
     },
     "inputWidgets": {},
     "nuid": "53a3ddde-f491-485e-a3a5-12b3fab7ceb8",
     "showTitle": false,
     "tableResultSettingsMap": {},
     "title": ""
    }
   },
   "source": [
    "### 2.4 Duplicate Rows Check"
   ]
  },
  {
   "cell_type": "markdown",
   "metadata": {
    "application/vnd.databricks.v1+cell": {
     "cellMetadata": {},
     "inputWidgets": {},
     "nuid": "e9c720e2-ce3a-4b14-b3f8-6d50d2400ccd",
     "showTitle": false,
     "tableResultSettingsMap": {},
     "title": ""
    }
   },
   "source": [
    "Check for json data frame "
   ]
  },
  {
   "cell_type": "code",
   "execution_count": 0,
   "metadata": {
    "application/vnd.databricks.v1+cell": {
     "cellMetadata": {
      "byteLimit": 2048000,
      "rowLimit": 10000
     },
     "inputWidgets": {},
     "nuid": "3015d621-8c22-4c59-942f-2416a3cf55d4",
     "showTitle": false,
     "tableResultSettingsMap": {},
     "title": ""
    }
   },
   "outputs": [
    {
     "output_type": "stream",
     "name": "stdout",
     "output_type": "stream",
     "text": [
      "Games DF\nTotal Rows: 50872\nDistinct Rows: 50872\nDuplicate Rows: 0\n+------+-----+------------+---+---+-----+------+--------------+------------+-----------+--------------+--------+----------+-----+\n|app_id|title|date_release|win|mac|linux|rating|positive_ratio|user_reviews|price_final|price_original|discount|steam_deck|count|\n+------+-----+------------+---+---+-----+------+--------------+------------+-----------+--------------+--------+----------+-----+\n+------+-----+------------+---+---+-----+------+--------------+------------+-----------+--------------+--------+----------+-----+\n\nGames Metadata DF\nTotal Rows: 50872\nDistinct Rows: 50872\nDuplicate Rows: 0\n+------+-----------+----+-----+\n|app_id|description|tags|count|\n+------+-----------+----+-----+\n+------+-----------+----+-----+\n\nRecommendations DF\nTotal Rows: 41154794\nDistinct Rows: 41154794\nDuplicate Rows: 0\n+------+-------+-----+----+--------------+-----+-------+---------+-----+\n|app_id|helpful|funny|date|is_recommended|hours|user_id|review_id|count|\n+------+-------+-----+----+--------------+-----+-------+---------+-----+\n+------+-------+-----+----+--------------+-----+-------+---------+-----+\n\nUsers DF\nTotal Rows: 14306064\nDistinct Rows: 14306064\nDuplicate Rows: 0\n+-------+--------+-------+-----+\n|user_id|products|reviews|count|\n+-------+--------+-------+-----+\n+-------+--------+-------+-----+\n\n"
     ]
    },
    {
     "output_type": "execute_result",
     "data": {
      "text/plain": [
       "DataFrame[user_id: string, products: string, reviews: string, count: bigint]"
      ]
     },
     "execution_count": 188,
     "metadata": {},
     "output_type": "execute_result"
    }
   ],
   "source": [
    "\n",
    "\n",
    "# Games DataFrame\n",
    "print(\"Games DF\")\n",
    "dexplor.checkDuplicates(games_df)\n",
    "\n",
    "# Games Metadata DataFrame\n",
    "print(\"Games Metadata DF\")\n",
    "dexplor.checkDuplicates(games_metadata_df)\n",
    "\n",
    "# Recommendations DataFrame\n",
    "print(\"Recommendations DF\")\n",
    "dexplor.checkDuplicates(recommendations_df)\n",
    "\n",
    "# Users DataFrame\n",
    "print(\"Users DF\")\n",
    "dexplor.checkDuplicates(users_df)"
   ]
  },
  {
   "cell_type": "markdown",
   "metadata": {
    "application/vnd.databricks.v1+cell": {
     "cellMetadata": {},
     "inputWidgets": {},
     "nuid": "0a44e503-6620-42dc-82ec-c8ab7b72ac68",
     "showTitle": false,
     "tableResultSettingsMap": {},
     "title": ""
    }
   },
   "source": [
    "Check for json data frame "
   ]
  },
  {
   "cell_type": "code",
   "execution_count": 0,
   "metadata": {
    "application/vnd.databricks.v1+cell": {
     "cellMetadata": {
      "byteLimit": 2048000,
      "rowLimit": 10000
     },
     "inputWidgets": {},
     "nuid": "849d4ba0-825b-42c1-99ba-3ce980bb80af",
     "showTitle": false,
     "tableResultSettingsMap": {},
     "title": ""
    }
   },
   "outputs": [
    {
     "output_type": "stream",
     "name": "stdout",
     "output_type": "stream",
     "text": [
      "Duplicates in games_df by ['app_id', 'title']: 0\n+------+-----+-----+\n|app_id|title|count|\n+------+-----+-----+\n+------+-----+-----+\n\nDuplicates in games_metadata_df by ['app_id', 'description']: 0\n+------+-----------+-----+\n|app_id|description|count|\n+------+-----------+-----+\n+------+-----------+-----+\n\nDuplicates in recommendations_df by ['user_id', 'app_id']: 21\n+--------+-------+-----+\n|user_id |app_id |count|\n+--------+-------+-----+\n|5485206 |220    |2    |\n|5485206 |1336840|2    |\n|3126060 |225540 |2    |\n|5017461 |282440 |2    |\n|4225445 |451020 |2    |\n|3280730 |1293830|2    |\n|1085990 |1205960|2    |\n|3054178 |1454400|2    |\n|3148709 |1063730|2    |\n|11373838|107310 |2    |\n|11640276|1142710|2    |\n|3081752 |617290 |2    |\n|10858200|945360 |2    |\n|8354604 |270880 |2    |\n|5235993 |266840 |2    |\n|3070422 |1118200|2    |\n|14227998|570940 |2    |\n|10442146|1689910|2    |\n|2433696 |440    |2    |\n|5969373 |231140 |2    |\n+--------+-------+-----+\nonly showing top 20 rows\nDuplicates in users_df by ['user_id']: 0\n+-------+-----+\n|user_id|count|\n+-------+-----+\n+-------+-----+\n\n"
     ]
    }
   ],
   "source": [
    "# Games DataFrame\n",
    "# Check if a game list listed more than once\n",
    "dexplor.check_duplicates_by(games_df, [\"app_id\", \"title\"], \"games_df\")\n",
    "\n",
    "# Games Metadata DataFrame\n",
    "# Check if a game list listed more than once\n",
    "dexplor.check_duplicates_by(games_metadata_df, [\"app_id\", \"description\"], \"games_metadata_df\")\n",
    "\n",
    "# Recommendations DataFrame\n",
    "# Check if a user gave more than one review for a game\n",
    "dexplor.check_duplicates_by(recommendations_df, [\"user_id\", \"app_id\"], \"recommendations_df\")\n",
    "\n",
    "# Users DataFrame \n",
    "# Check if user listed more than once \n",
    "dexplor.check_duplicates_by(users_df, [\"user_id\"], \"users_df\")\n"
   ]
  },
  {
   "cell_type": "markdown",
   "metadata": {
    "application/vnd.databricks.v1+cell": {
     "cellMetadata": {},
     "inputWidgets": {},
     "nuid": "27b9acf7-ca40-4030-81ce-38bac46f5f79",
     "showTitle": false,
     "tableResultSettingsMap": {},
     "title": ""
    }
   },
   "source": [
    "Check for json data frame "
   ]
  },
  {
   "cell_type": "code",
   "execution_count": 0,
   "metadata": {
    "application/vnd.databricks.v1+cell": {
     "cellMetadata": {
      "byteLimit": 2048000,
      "rowLimit": 10000
     },
     "inputWidgets": {},
     "nuid": "e7df08bb-0cbe-4efd-9ca3-7faacd1181df",
     "showTitle": false,
     "tableResultSettingsMap": {},
     "title": ""
    }
   },
   "outputs": [
    {
     "output_type": "stream",
     "name": "stdout",
     "output_type": "stream",
     "text": [
      "Games DF\n+------+-----+------------+---+---+-----+------+--------------+------------+-----------+--------------+--------+----------+\n|app_id|title|date_release|win|mac|linux|rating|positive_ratio|user_reviews|price_final|price_original|discount|steam_deck|\n+------+-----+------------+---+---+-----+------+--------------+------------+-----------+--------------+--------+----------+\n+------+-----+------------+---+---+-----+------+--------------+------------+-----------+--------------+--------+----------+\n\nRows with suspicious strings only: 0\nGames Metadata DF\n+-------+-----------+--------------------+\n| app_id|description|                tags|\n+-------+-----------+--------------------+\n|  22364|           |            [Action]|\n| 271850|           |[Strategy, Simula...|\n| 245950|           |[Action, RPG, FPS...|\n| 305181|           | [Adventure, Action]|\n| 458790|           |[Adventure, Sound...|\n| 462280|           |[Strategy, Indie,...|\n| 371970|           |                  []|\n|1259750|           |[Simulation, Stra...|\n| 320388|           | [Action, Adventure]|\n| 393831|           | [Action, Adventure]|\n| 434041|           |     [Strategy, RPG]|\n| 208805|           | [Action, Adventure]|\n| 406600|           | [Action, Adventure]|\n| 436550|           |[Strategy, Simula...|\n| 439500|           |[Adventure, Actio...|\n| 325990|           |        [Simulation]|\n| 376980|           |[Strategy, Indie,...|\n| 382400|           |[Strategy, RPG, S...|\n| 388290|           | [Action, Adventure]|\n| 466546|           |[Action, Adventur...|\n+-------+-----------+--------------------+\nonly showing top 20 rows\nRows with suspicious strings only: 10373\nRecommendations DF\n+------+-------+-----+----+--------------+-----+-------+---------+\n|app_id|helpful|funny|date|is_recommended|hours|user_id|review_id|\n+------+-------+-----+----+--------------+-----+-------+---------+\n+------+-------+-----+----+--------------+-----+-------+---------+\n\nRows with suspicious strings only: 0\nUsers DF\n+-------+--------+-------+\n|user_id|products|reviews|\n+-------+--------+-------+\n+-------+--------+-------+\n\nRows with suspicious strings only: 0\n"
     ]
    },
    {
     "output_type": "execute_result",
     "data": {
      "text/plain": [
       "DataFrame[user_id: string, products: string, reviews: string]"
      ]
     },
     "execution_count": 190,
     "metadata": {},
     "output_type": "execute_result"
    }
   ],
   "source": [
    "\n",
    "# Games DataFrame\n",
    "print(\"Games DF\")\n",
    "dexplor.checkSuspiciousStrings(games_df)\n",
    "\n",
    "# Games Metadata DataFrame\n",
    "print(\"Games Metadata DF\")\n",
    "dexplor.checkSuspiciousStrings(games_metadata_df)\n",
    "\n",
    "# Recommendations DataFrame\n",
    "print(\"Recommendations DF\")\n",
    "dexplor.checkSuspiciousStrings(recommendations_df)\n",
    "\n",
    "# Users DataFrame\n",
    "print(\"Users DF\")\n",
    "dexplor.checkSuspiciousStrings(users_df)"
   ]
  },
  {
   "cell_type": "markdown",
   "metadata": {
    "application/vnd.databricks.v1+cell": {
     "cellMetadata": {
      "byteLimit": 2048000,
      "rowLimit": 10000
     },
     "inputWidgets": {},
     "nuid": "45ef0d5d-616d-4388-b760-a6f231b09f9d",
     "showTitle": false,
     "tableResultSettingsMap": {},
     "title": ""
    }
   },
   "source": [
    "###2.5 Null/Missing Values"
   ]
  },
  {
   "cell_type": "markdown",
   "metadata": {
    "application/vnd.databricks.v1+cell": {
     "cellMetadata": {},
     "inputWidgets": {},
     "nuid": "fbbdb70f-d7f7-462a-ad3a-a79be14b136d",
     "showTitle": false,
     "tableResultSettingsMap": {},
     "title": ""
    }
   },
   "source": [
    "Check for null rows \n"
   ]
  },
  {
   "cell_type": "code",
   "execution_count": 0,
   "metadata": {
    "application/vnd.databricks.v1+cell": {
     "cellMetadata": {
      "byteLimit": 2048000,
      "rowLimit": 10000
     },
     "inputWidgets": {},
     "nuid": "6d25ba77-66ef-405c-9e9e-e18388a43038",
     "showTitle": false,
     "tableResultSettingsMap": {},
     "title": ""
    }
   },
   "outputs": [
    {
     "output_type": "stream",
     "name": "stdout",
     "output_type": "stream",
     "text": [
      "Games DF\nRows with at least one null: 0\n+------+-----+------------+---+---+-----+------+--------------+------------+-----------+--------------+--------+----------+\n|app_id|title|date_release|win|mac|linux|rating|positive_ratio|user_reviews|price_final|price_original|discount|steam_deck|\n+------+-----+------------+---+---+-----+------+--------------+------------+-----------+--------------+--------+----------+\n+------+-----+------------+---+---+-----+------+--------------+------------+-----------+--------------+--------+----------+\n\nGames Metadata DF\nRows with at least one null: 0\n+------+-----------+----+\n|app_id|description|tags|\n+------+-----------+----+\n+------+-----------+----+\n\nRecommendations DF\nRows with at least one null: 0\n+------+-------+-----+----+--------------+-----+-------+---------+\n|app_id|helpful|funny|date|is_recommended|hours|user_id|review_id|\n+------+-------+-----+----+--------------+-----+-------+---------+\n+------+-------+-----+----+--------------+-----+-------+---------+\n\nUsers DF\nRows with at least one null: 0\n+-------+--------+-------+\n|user_id|products|reviews|\n+-------+--------+-------+\n+-------+--------+-------+\n\n"
     ]
    }
   ],
   "source": [
    "# Games DataFrame\n",
    "print(\"Games DF\")\n",
    "dexplor.checkNullRows(games_df)\n",
    "\n",
    "# Games Metadata DataFrame\n",
    "print(\"Games Metadata DF\")\n",
    "dexplor.checkNullRows(games_metadata_df)\n",
    "\n",
    "# Recommendations DataFrame\n",
    "print(\"Recommendations DF\")\n",
    "dexplor.checkNullRows(recommendations_df)\n",
    "\n",
    "# Users DataFrame\n",
    "print(\"Users DF\")\n",
    "dexplor.checkNullRows(users_df)"
   ]
  },
  {
   "cell_type": "markdown",
   "metadata": {
    "application/vnd.databricks.v1+cell": {
     "cellMetadata": {
      "byteLimit": 2048000,
      "rowLimit": 10000
     },
     "inputWidgets": {},
     "nuid": "07cf49ab-cae7-4248-8eab-21305b7b3e9b",
     "showTitle": false,
     "tableResultSettingsMap": {},
     "title": ""
    }
   },
   "source": [
    "### 2.6 Summary Statistics"
   ]
  },
  {
   "cell_type": "code",
   "execution_count": 0,
   "metadata": {
    "application/vnd.databricks.v1+cell": {
     "cellMetadata": {
      "byteLimit": 2048000,
      "rowLimit": 10000
     },
     "inputWidgets": {},
     "nuid": "4f5f6649-7dac-476c-a003-b39d8c798ba4",
     "showTitle": false,
     "tableResultSettingsMap": {},
     "title": ""
    }
   },
   "outputs": [
    {
     "output_type": "stream",
     "name": "stdout",
     "output_type": "stream",
     "text": [
      "Games DF\n+-------+\n|summary|\n+-------+\n|  count|\n|   mean|\n| stddev|\n|    min|\n|    max|\n+-------+\n\nRecommendations DF\n+-------+\n|summary|\n+-------+\n|  count|\n|   mean|\n| stddev|\n|    min|\n|    max|\n+-------+\n\nUsers DF\n+-------+\n|summary|\n+-------+\n|  count|\n|   mean|\n| stddev|\n|    min|\n|    max|\n+-------+\n\n"
     ]
    }
   ],
   "source": [
    "def getNumericColumns(df):\n",
    "    numeric_types = ('int', 'double', 'float', 'decimal')\n",
    "    return [name for name, dtype in df.dtypes if any(dtype.startswith(nt) for nt in numeric_types)]\n",
    "\n",
    "\n",
    "\n",
    "# Games DataFrame\n",
    "print(\"Games DF\")\n",
    "games_df.select(getNumericColumns(games_df)).describe().show()\n",
    "\n",
    "# Recommendations DataFrame\n",
    "print(\"Recommendations DF\")\n",
    "recommendations_df.select(getNumericColumns(recommendations_df)).describe().show()\n",
    "\n",
    "# Users DataFrame\n",
    "print(\"Users DF\")\n",
    "users_df.select(getNumericColumns(users_df)).describe().show()"
   ]
  },
  {
   "cell_type": "markdown",
   "metadata": {
    "application/vnd.databricks.v1+cell": {
     "cellMetadata": {
      "byteLimit": 2048000,
      "rowLimit": 10000
     },
     "inputWidgets": {},
     "nuid": "e8d8a250-a471-4300-a205-a20740bdfbc6",
     "showTitle": false,
     "tableResultSettingsMap": {},
     "title": ""
    }
   },
   "source": [
    "### 2.7 Unique Values / Cardinality"
   ]
  },
  {
   "cell_type": "code",
   "execution_count": 0,
   "metadata": {
    "application/vnd.databricks.v1+cell": {
     "cellMetadata": {
      "byteLimit": 2048000,
      "rowLimit": 10000
     },
     "inputWidgets": {},
     "nuid": "d535090d-7258-455c-acb2-57eee9324201",
     "showTitle": false,
     "tableResultSettingsMap": {},
     "title": ""
    }
   },
   "outputs": [
    {
     "output_type": "stream",
     "name": "stdout",
     "output_type": "stream",
     "text": [
      "Games DF\n+-------------+------------+-------------------+----------+----------+------------+-------------+---------------------+-------------------+------------------+---------------------+---------------+-----------------+\n|app_id_unique|title_unique|date_release_unique|win_unique|mac_unique|linux_unique|rating_unique|positive_ratio_unique|user_reviews_unique|price_final_unique|price_original_unique|discount_unique|steam_deck_unique|\n+-------------+------------+-------------------+----------+----------+------------+-------------+---------------------+-------------------+------------------+---------------------+---------------+-----------------+\n|        50872|       50751|               4292|         2|         2|           2|            9|                  100|               4847|               436|                  183|             75|                2|\n+-------------+------------+-------------------+----------+----------+------------+-------------+---------------------+-------------------+------------------+---------------------+---------------+-----------------+\n\nGames Metadata DF\n+-------------+------------------+-----------+\n|app_id_unique|description_unique|tags_unique|\n+-------------+------------------+-----------+\n|        50872|             40244|      42392|\n+-------------+------------------+-----------+\n\nRecommendations DF\n+-------------+--------------+------------+-----------+---------------------+------------+--------------+----------------+\n|app_id_unique|helpful_unique|funny_unique|date_unique|is_recommended_unique|hours_unique|user_id_unique|review_id_unique|\n+-------------+--------------+------------+-----------+---------------------+------------+--------------+----------------+\n|        37610|          3910|        2756|       4450|                    2|       10001|      13781059|        41154794|\n+-------------+--------------+------------+-----------+---------------------+------------+--------------+----------------+\n\nUsers DF\n+--------------+---------------+--------------+\n|user_id_unique|products_unique|reviews_unique|\n+--------------+---------------+--------------+\n|      14306064|           7572|           681|\n+--------------+---------------+--------------+\n\n"
     ]
    },
    {
     "output_type": "execute_result",
     "data": {
      "text/plain": [
       "DataFrame[user_id_unique: bigint, products_unique: bigint, reviews_unique: bigint]"
      ]
     },
     "execution_count": 19,
     "metadata": {},
     "output_type": "execute_result"
    }
   ],
   "source": [
    "from pyspark.sql.functions import countDistinct\n",
    "\n",
    "\n",
    "def getCardinality(df):\n",
    "    cardinality_df = df.select([\n",
    "    countDistinct(col(c)).alias(f\"{c}_unique\") for c in df.columns\n",
    "])\n",
    "    cardinality_df.show()\n",
    "    return cardinality_df\n",
    "\n",
    "\n",
    "\n",
    "# Games DataFrame\n",
    "print(\"Games DF\")\n",
    "getCardinality(games_df)\n",
    "\n",
    "# Games Metadata DataFrame\n",
    "print(\"Games Metadata DF\")\n",
    "getCardinality(games_metadata_df)\n",
    "\n",
    "# Recommendations DataFrame\n",
    "print(\"Recommendations DF\")\n",
    "getCardinality(recommendations_df)\n",
    "\n",
    "# Users DataFrame\n",
    "print(\"Users DF\")\n",
    "getCardinality(users_df)\n"
   ]
  },
  {
   "cell_type": "markdown",
   "metadata": {
    "application/vnd.databricks.v1+cell": {
     "cellMetadata": {
      "byteLimit": 2048000,
      "rowLimit": 10000
     },
     "inputWidgets": {},
     "nuid": "27cbc13b-1890-4670-8d61-6260d08d0999",
     "showTitle": false,
     "tableResultSettingsMap": {},
     "title": ""
    }
   },
   "source": [
    "### 2.8 Date range check "
   ]
  },
  {
   "cell_type": "code",
   "execution_count": 0,
   "metadata": {
    "application/vnd.databricks.v1+cell": {
     "cellMetadata": {
      "byteLimit": 2048000,
      "rowLimit": 10000
     },
     "inputWidgets": {},
     "nuid": "4bfac690-ec0b-49e5-9945-600e93fcc4ad",
     "showTitle": false,
     "tableResultSettingsMap": {},
     "title": ""
    }
   },
   "outputs": [
    {
     "output_type": "stream",
     "name": "stdout",
     "output_type": "stream",
     "text": [
      "Games DF\nNo date or timestamp columns found.\nRecommendations DF\nNo date or timestamp columns found.\n"
     ]
    }
   ],
   "source": [
    "from pyspark.sql.functions import col, min, max\n",
    "from pyspark.sql.types import DateType, TimestampType\n",
    "\n",
    "def getDateRange(df):\n",
    "    date_cols = [field.name for field in df.schema.fields \n",
    "                 if isinstance(field.dataType, (DateType, TimestampType))]\n",
    "\n",
    "    if not date_cols:\n",
    "        print(\"No date or timestamp columns found.\")\n",
    "        return\n",
    "\n",
    "    date_range_df = df.select([\n",
    "        min(col(c)).alias(f\"{c}_min\") for c in date_cols\n",
    "    ] + [\n",
    "        max(col(c)).alias(f\"{c}_max\") for c in date_cols\n",
    "    ])\n",
    "\n",
    "    date_range_df.show(truncate=False)\n",
    "\n",
    "\n",
    "# Games DataFrame\n",
    "print(\"Games DF\")\n",
    "getDateRange(games_df)\n",
    "\n",
    "# Recommendations DataFrame\n",
    "print(\"Recommendations DF\")\n",
    "getDateRange(recommendations_df)\n",
    "\n",
    "\n"
   ]
  },
  {
   "cell_type": "markdown",
   "metadata": {
    "application/vnd.databricks.v1+cell": {
     "cellMetadata": {
      "byteLimit": 2048000,
      "rowLimit": 10000
     },
     "inputWidgets": {},
     "nuid": "c36bf9fb-e216-443b-bb9e-26476c4c2ec2",
     "showTitle": false,
     "tableResultSettingsMap": {},
     "title": ""
    }
   },
   "source": [
    "### 2.9 Data Range Check"
   ]
  },
  {
   "cell_type": "code",
   "execution_count": 0,
   "metadata": {
    "application/vnd.databricks.v1+cell": {
     "cellMetadata": {
      "byteLimit": 2048000,
      "rowLimit": 10000
     },
     "inputWidgets": {},
     "nuid": "5c94f1b2-8f2b-4473-92e5-844bccb9c25c",
     "showTitle": false,
     "tableResultSettingsMap": {},
     "title": ""
    }
   },
   "outputs": [
    {
     "output_type": "stream",
     "name": "stdout",
     "output_type": "stream",
     "text": [
      "No numeric or date columns found.\nNo numeric or date columns found.\n"
     ]
    }
   ],
   "source": [
    "from pyspark.sql.functions import col, min, max\n",
    "from pyspark.sql.types import NumericType, DateType, TimestampType\n",
    "\n",
    "def get_column_ranges(df):\n",
    "    \"\"\"\n",
    "    Prints min and max for each numeric, date, or timestamp column in the given PySpark DataFrame.\n",
    "    \"\"\"\n",
    "    # Identify relevant columns\n",
    "    target_cols = [\n",
    "        field.name for field in df.schema.fields\n",
    "        if isinstance(field.dataType, (NumericType, DateType, TimestampType))\n",
    "    ]\n",
    "\n",
    "    if not target_cols:\n",
    "        print(\"No numeric or date columns found.\")\n",
    "        return\n",
    "\n",
    "    # Create min and max aggregation expressions\n",
    "    agg_exprs = []\n",
    "    for col_name in target_cols:\n",
    "        agg_exprs.append(min(col(col_name)).alias(f\"{col_name}_min\"))\n",
    "        agg_exprs.append(max(col(col_name)).alias(f\"{col_name}_max\"))\n",
    "\n",
    "    # Show the result\n",
    "    df.select(agg_exprs).show(truncate=False)\n",
    "\n",
    "\n",
    "get_column_ranges(games_df)\n",
    "get_column_ranges(recommendations_df)\n"
   ]
  },
  {
   "cell_type": "markdown",
   "metadata": {
    "application/vnd.databricks.v1+cell": {
     "cellMetadata": {},
     "inputWidgets": {},
     "nuid": "4ad6efd4-5673-48c0-b556-3ac0dcd010b9",
     "showTitle": false,
     "tableResultSettingsMap": {},
     "title": ""
    }
   },
   "source": [
    "### 2.10 Value Distribution for Categorical/Boolean Fields"
   ]
  },
  {
   "cell_type": "code",
   "execution_count": 0,
   "metadata": {
    "application/vnd.databricks.v1+cell": {
     "cellMetadata": {
      "byteLimit": 2048000,
      "rowLimit": 10000
     },
     "inputWidgets": {},
     "nuid": "41172a55-9ddb-44f8-9cc0-61de8109f202",
     "showTitle": false,
     "tableResultSettingsMap": {},
     "title": ""
    }
   },
   "outputs": [],
   "source": [
    "def get_categorical_distribution(df, col_name):\n",
    "    \"\"\"\n",
    "    Prints the distribution (value counts) for a categorical column in descending order.\n",
    "    \n",
    "    Args:\n",
    "        df (DataFrame): PySpark DataFrame\n",
    "        col_name (str): Name of the categorical column\n",
    "    \n",
    "    Returns:\n",
    "        None (prints the distribution)\n",
    "    \"\"\"\n",
    "    df.groupBy(col_name).count() \\\n",
    "      .orderBy(\"count\", ascending=False) \\\n",
    "      .show(truncate=False)\n",
    "\n",
    "\n"
   ]
  },
  {
   "cell_type": "code",
   "execution_count": 0,
   "metadata": {
    "application/vnd.databricks.v1+cell": {
     "cellMetadata": {
      "byteLimit": 2048000,
      "rowLimit": 10000
     },
     "inputWidgets": {},
     "nuid": "9b166300-bd48-4353-aee8-1f02c03fdb95",
     "showTitle": false,
     "tableResultSettingsMap": {},
     "title": ""
    }
   },
   "outputs": [
    {
     "output_type": "stream",
     "name": "stdout",
     "output_type": "stream",
     "text": [
      "+-----------------------+-----+\n|rating                 |count|\n+-----------------------+-----+\n|Positive               |13502|\n|Very Positive          |13139|\n|Mixed                  |12157|\n|Mostly Positive        |8738 |\n|Mostly Negative        |1849 |\n|Overwhelmingly Positive|1110 |\n|Negative               |303  |\n|Very Negative          |60   |\n|Overwhelmingly Negative|14   |\n+-----------------------+-----+\n\n+-----+-----+\n|win  |count|\n+-----+-----+\n|true |50076|\n|false|796  |\n+-----+-----+\n\n+-----+-----+\n|mac  |count|\n+-----+-----+\n|false|37854|\n|true |13018|\n+-----+-----+\n\n+-----+-----+\n|linux|count|\n+-----+-----+\n|false|41831|\n|true |9041 |\n+-----+-----+\n\n+----------+-----+\n|steam_deck|count|\n+----------+-----+\n|true      |50870|\n|false     |2    |\n+----------+-----+\n\n+--------------+--------+\n|is_recommended|count   |\n+--------------+--------+\n|true          |35304398|\n|false         |5850396 |\n+--------------+--------+\n\n"
     ]
    }
   ],
   "source": [
    "# Games DF\n",
    "get_categorical_distribution(games_df, \"rating\")\n",
    "get_categorical_distribution(games_df, \"win\")\n",
    "get_categorical_distribution(games_df, \"mac\")\n",
    "get_categorical_distribution(games_df, \"linux\")\n",
    "get_categorical_distribution(games_df, \"steam_deck\")\n",
    "\n",
    "# Recommendations DF \n",
    "\n",
    "get_categorical_distribution(recommendations_df, \"is_recommended\")\n"
   ]
  },
  {
   "cell_type": "markdown",
   "metadata": {
    "application/vnd.databricks.v1+cell": {
     "cellMetadata": {
      "byteLimit": 2048000,
      "rowLimit": 10000
     },
     "inputWidgets": {},
     "nuid": "636c6e4f-dd53-4082-b80d-470f6858b8e9",
     "showTitle": false,
     "tableResultSettingsMap": {},
     "title": ""
    }
   },
   "source": []
  }
 ],
 "metadata": {
  "application/vnd.databricks.v1+notebook": {
   "computePreferences": null,
   "dashboards": [],
   "environmentMetadata": {
    "base_environment": "",
    "environment_version": "2"
   },
   "inputWidgetPreferences": null,
   "language": "python",
   "notebookMetadata": {
    "pythonIndentUnit": 4
   },
   "notebookName": "01_Data_Exploration",
   "widgets": {}
  },
  "language_info": {
   "name": "python"
  }
 },
 "nbformat": 4,
 "nbformat_minor": 0
}